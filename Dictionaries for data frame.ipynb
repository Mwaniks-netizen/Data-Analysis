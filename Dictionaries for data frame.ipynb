{
 "cells": [
  {
   "cell_type": "code",
   "execution_count": 1,
   "id": "71bf192b-8053-49d2-a571-7722b4f1210b",
   "metadata": {},
   "outputs": [],
   "source": [
    "people = {\n",
    "    \"first\": [\"Correy\", \"Sherry\", \"Kevin\"],\n",
    "    \"second\": [\"Nendi\", \"Kentin\", \"Marigat\"],\n",
    "}"
   ]
  },
  {
   "cell_type": "code",
   "execution_count": 2,
   "id": "b5652a44-f067-49ed-96d5-905c9c8efe63",
   "metadata": {},
   "outputs": [
    {
     "data": {
      "text/plain": [
       "['Correy', 'Sherry', 'Kevin']"
      ]
     },
     "execution_count": 2,
     "metadata": {},
     "output_type": "execute_result"
    }
   ],
   "source": [
    "people[\"first\"]"
   ]
  },
  {
   "cell_type": "code",
   "execution_count": 3,
   "id": "57c4612c-08e5-4177-9172-8beb895e9cd6",
   "metadata": {},
   "outputs": [
    {
     "data": {
      "text/plain": [
       "'Correy'"
      ]
     },
     "execution_count": 3,
     "metadata": {},
     "output_type": "execute_result"
    }
   ],
   "source": [
    "people[\"first\"][0]"
   ]
  },
  {
   "cell_type": "code",
   "execution_count": 4,
   "id": "e118819f-1ca8-493f-b926-b859d162e04b",
   "metadata": {},
   "outputs": [
    {
     "data": {
      "text/plain": [
       "'Kevin'"
      ]
     },
     "execution_count": 4,
     "metadata": {},
     "output_type": "execute_result"
    }
   ],
   "source": [
    "people[\"first\"][-1]"
   ]
  },
  {
   "cell_type": "code",
   "execution_count": 5,
   "id": "5b180d27-efa0-4d92-bd66-c5e2e4f52e74",
   "metadata": {},
   "outputs": [],
   "source": [
    "import pandas as pd"
   ]
  },
  {
   "cell_type": "code",
   "execution_count": 6,
   "id": "ea5c568d-9e6c-4645-a4df-59349879b4e2",
   "metadata": {},
   "outputs": [],
   "source": [
    "dictionaries_df=pd.DataFrame(people)"
   ]
  },
  {
   "cell_type": "code",
   "execution_count": 7,
   "id": "e382dac4-c8c5-42df-ac21-3e04965669a8",
   "metadata": {},
   "outputs": [
    {
     "data": {
      "text/html": [
       "<div>\n",
       "<style scoped>\n",
       "    .dataframe tbody tr th:only-of-type {\n",
       "        vertical-align: middle;\n",
       "    }\n",
       "\n",
       "    .dataframe tbody tr th {\n",
       "        vertical-align: top;\n",
       "    }\n",
       "\n",
       "    .dataframe thead th {\n",
       "        text-align: right;\n",
       "    }\n",
       "</style>\n",
       "<table border=\"1\" class=\"dataframe\">\n",
       "  <thead>\n",
       "    <tr style=\"text-align: right;\">\n",
       "      <th></th>\n",
       "      <th>first</th>\n",
       "      <th>second</th>\n",
       "    </tr>\n",
       "  </thead>\n",
       "  <tbody>\n",
       "    <tr>\n",
       "      <th>0</th>\n",
       "      <td>Correy</td>\n",
       "      <td>Nendi</td>\n",
       "    </tr>\n",
       "    <tr>\n",
       "      <th>1</th>\n",
       "      <td>Sherry</td>\n",
       "      <td>Kentin</td>\n",
       "    </tr>\n",
       "    <tr>\n",
       "      <th>2</th>\n",
       "      <td>Kevin</td>\n",
       "      <td>Marigat</td>\n",
       "    </tr>\n",
       "  </tbody>\n",
       "</table>\n",
       "</div>"
      ],
      "text/plain": [
       "    first   second\n",
       "0  Correy    Nendi\n",
       "1  Sherry   Kentin\n",
       "2   Kevin  Marigat"
      ]
     },
     "execution_count": 7,
     "metadata": {},
     "output_type": "execute_result"
    }
   ],
   "source": [
    "dictionaries_df"
   ]
  },
  {
   "cell_type": "code",
   "execution_count": 10,
   "id": "a74b3b13-30d0-4bfd-b44f-b11a74bbd578",
   "metadata": {},
   "outputs": [
    {
     "data": {
      "text/plain": [
       "0    Correy\n",
       "1    Sherry\n",
       "2     Kevin\n",
       "Name: first, dtype: object"
      ]
     },
     "execution_count": 10,
     "metadata": {},
     "output_type": "execute_result"
    }
   ],
   "source": [
    "#Accessing a single column\n",
    "dictionaries_df[\"first\"]"
   ]
  },
  {
   "cell_type": "code",
   "execution_count": 11,
   "id": "cf6353e1-8578-4915-aee9-98474f6b2f7f",
   "metadata": {},
   "outputs": [
    {
     "data": {
      "text/plain": [
       "pandas.core.series.Series"
      ]
     },
     "execution_count": 11,
     "metadata": {},
     "output_type": "execute_result"
    }
   ],
   "source": [
    "#checking type of the column\n",
    "type(dictionaries_df[\"first\"])"
   ]
  },
  {
   "cell_type": "code",
   "execution_count": 12,
   "id": "e3cc568f-9cb2-46a3-a533-3d75cffbd7c0",
   "metadata": {},
   "outputs": [],
   "source": [
    "#A series is a one dimensional data structure. Meaning its rows of a single column and many series make up a dataframe\n"
   ]
  },
  {
   "cell_type": "code",
   "execution_count": 13,
   "id": "dfce6715-85c3-4275-9ee6-566b5de6157c",
   "metadata": {},
   "outputs": [
    {
     "data": {
      "text/html": [
       "<div>\n",
       "<style scoped>\n",
       "    .dataframe tbody tr th:only-of-type {\n",
       "        vertical-align: middle;\n",
       "    }\n",
       "\n",
       "    .dataframe tbody tr th {\n",
       "        vertical-align: top;\n",
       "    }\n",
       "\n",
       "    .dataframe thead th {\n",
       "        text-align: right;\n",
       "    }\n",
       "</style>\n",
       "<table border=\"1\" class=\"dataframe\">\n",
       "  <thead>\n",
       "    <tr style=\"text-align: right;\">\n",
       "      <th></th>\n",
       "      <th>first</th>\n",
       "      <th>second</th>\n",
       "    </tr>\n",
       "  </thead>\n",
       "  <tbody>\n",
       "    <tr>\n",
       "      <th>0</th>\n",
       "      <td>Correy</td>\n",
       "      <td>Nendi</td>\n",
       "    </tr>\n",
       "    <tr>\n",
       "      <th>1</th>\n",
       "      <td>Sherry</td>\n",
       "      <td>Kentin</td>\n",
       "    </tr>\n",
       "    <tr>\n",
       "      <th>2</th>\n",
       "      <td>Kevin</td>\n",
       "      <td>Marigat</td>\n",
       "    </tr>\n",
       "  </tbody>\n",
       "</table>\n",
       "</div>"
      ],
      "text/plain": [
       "    first   second\n",
       "0  Correy    Nendi\n",
       "1  Sherry   Kentin\n",
       "2   Kevin  Marigat"
      ]
     },
     "execution_count": 13,
     "metadata": {},
     "output_type": "execute_result"
    }
   ],
   "source": [
    "#Accessing multiple columns\n",
    "#Pass the names of the columns as a list\n",
    "dictionaries_df[[\"first\",\"second\"]]"
   ]
  },
  {
   "cell_type": "code",
   "execution_count": 14,
   "id": "586005f9-336e-4605-9fc6-c88221d6ed5f",
   "metadata": {},
   "outputs": [
    {
     "data": {
      "text/plain": [
       "Index(['first', 'second'], dtype='object')"
      ]
     },
     "execution_count": 14,
     "metadata": {},
     "output_type": "execute_result"
    }
   ],
   "source": [
    "#If we want to know all the columns and get them, we can use the columns attribute\n",
    "dictionaries_df.columns"
   ]
  },
  {
   "cell_type": "code",
   "execution_count": 18,
   "id": "2e08936e-2081-4d56-817f-e8624a055d0c",
   "metadata": {},
   "outputs": [
    {
     "data": {
      "text/plain": [
       "first     Sherry\n",
       "second    Kentin\n",
       "Name: 1, dtype: object"
      ]
     },
     "execution_count": 18,
     "metadata": {},
     "output_type": "execute_result"
    }
   ],
   "source": [
    "#To access rows we can use the loc and iloc \n",
    "#iloc allows use to access the row using integer notation hence the name\n",
    "#Returns a series that contains the values of the selected row of the dataframe\n",
    "#An example accessing the second row, indexed 1  using iloc\n",
    "#The column names are the index of the series\n",
    "dictionaries_df.iloc[1]"
   ]
  },
  {
   "cell_type": "code",
   "execution_count": 19,
   "id": "e4004d13-314f-4591-875d-657856580bac",
   "metadata": {},
   "outputs": [
    {
     "data": {
      "text/html": [
       "<div>\n",
       "<style scoped>\n",
       "    .dataframe tbody tr th:only-of-type {\n",
       "        vertical-align: middle;\n",
       "    }\n",
       "\n",
       "    .dataframe tbody tr th {\n",
       "        vertical-align: top;\n",
       "    }\n",
       "\n",
       "    .dataframe thead th {\n",
       "        text-align: right;\n",
       "    }\n",
       "</style>\n",
       "<table border=\"1\" class=\"dataframe\">\n",
       "  <thead>\n",
       "    <tr style=\"text-align: right;\">\n",
       "      <th></th>\n",
       "      <th>first</th>\n",
       "      <th>second</th>\n",
       "    </tr>\n",
       "  </thead>\n",
       "  <tbody>\n",
       "    <tr>\n",
       "      <th>0</th>\n",
       "      <td>Correy</td>\n",
       "      <td>Nendi</td>\n",
       "    </tr>\n",
       "    <tr>\n",
       "      <th>2</th>\n",
       "      <td>Kevin</td>\n",
       "      <td>Marigat</td>\n",
       "    </tr>\n",
       "  </tbody>\n",
       "</table>\n",
       "</div>"
      ],
      "text/plain": [
       "    first   second\n",
       "0  Correy    Nendi\n",
       "2   Kevin  Marigat"
      ]
     },
     "execution_count": 19,
     "metadata": {},
     "output_type": "execute_result"
    }
   ],
   "source": [
    "#Accesing multiple rows using iloc\n",
    "#This returns a dataframe \n",
    "\n",
    "dictionaries_df.iloc[[0,2]]"
   ]
  },
  {
   "cell_type": "code",
   "execution_count": 20,
   "id": "b69c9893-375f-4fb7-b6d1-454c946b36dc",
   "metadata": {},
   "outputs": [
    {
     "data": {
      "text/plain": [
       "0    Correy\n",
       "1    Sherry\n",
       "Name: first, dtype: object"
      ]
     },
     "execution_count": 20,
     "metadata": {},
     "output_type": "execute_result"
    }
   ],
   "source": [
    "#selecting columns using iloc\n",
    "dictionaries_df.iloc[[0,1],0]"
   ]
  },
  {
   "cell_type": "code",
   "execution_count": 21,
   "id": "4adc4b22-ac30-485f-81db-88d33a72b3e2",
   "metadata": {},
   "outputs": [
    {
     "data": {
      "text/html": [
       "<div>\n",
       "<style scoped>\n",
       "    .dataframe tbody tr th:only-of-type {\n",
       "        vertical-align: middle;\n",
       "    }\n",
       "\n",
       "    .dataframe tbody tr th {\n",
       "        vertical-align: top;\n",
       "    }\n",
       "\n",
       "    .dataframe thead th {\n",
       "        text-align: right;\n",
       "    }\n",
       "</style>\n",
       "<table border=\"1\" class=\"dataframe\">\n",
       "  <thead>\n",
       "    <tr style=\"text-align: right;\">\n",
       "      <th></th>\n",
       "      <th>first</th>\n",
       "      <th>second</th>\n",
       "    </tr>\n",
       "  </thead>\n",
       "  <tbody>\n",
       "    <tr>\n",
       "      <th>0</th>\n",
       "      <td>Correy</td>\n",
       "      <td>Nendi</td>\n",
       "    </tr>\n",
       "    <tr>\n",
       "      <th>1</th>\n",
       "      <td>Sherry</td>\n",
       "      <td>Kentin</td>\n",
       "    </tr>\n",
       "  </tbody>\n",
       "</table>\n",
       "</div>"
      ],
      "text/plain": [
       "    first  second\n",
       "0  Correy   Nendi\n",
       "1  Sherry  Kentin"
      ]
     },
     "execution_count": 21,
     "metadata": {},
     "output_type": "execute_result"
    }
   ],
   "source": [
    "#using loac, loc uses labels\n",
    "#for our current dataset, the labels are the indexes\n",
    "#selecting rows using loc\n",
    "dictionaries_df.loc[[0,1]]"
   ]
  },
  {
   "cell_type": "code",
   "execution_count": 22,
   "id": "1b45b292-0535-48bd-9549-8512975fe6a2",
   "metadata": {},
   "outputs": [
    {
     "data": {
      "text/plain": [
       "0     Nendi\n",
       "1    Kentin\n",
       "Name: second, dtype: object"
      ]
     },
     "execution_count": 22,
     "metadata": {},
     "output_type": "execute_result"
    }
   ],
   "source": [
    "#selecting rows and columns using loc\n",
    "#The difference between loc and iloc is that in iloc we were passing the index of the column and in loc we wiill have to use the labels\n",
    "dictionaries_df.loc[[0,1], \"second\"]"
   ]
  },
  {
   "cell_type": "code",
   "execution_count": 27,
   "id": "c2c44f0a-0d0d-420f-b68e-4de4ad3daf19",
   "metadata": {},
   "outputs": [
    {
     "data": {
      "text/html": [
       "<div>\n",
       "<style scoped>\n",
       "    .dataframe tbody tr th:only-of-type {\n",
       "        vertical-align: middle;\n",
       "    }\n",
       "\n",
       "    .dataframe tbody tr th {\n",
       "        vertical-align: top;\n",
       "    }\n",
       "\n",
       "    .dataframe thead th {\n",
       "        text-align: right;\n",
       "    }\n",
       "</style>\n",
       "<table border=\"1\" class=\"dataframe\">\n",
       "  <thead>\n",
       "    <tr style=\"text-align: right;\">\n",
       "      <th></th>\n",
       "      <th>first</th>\n",
       "      <th>second</th>\n",
       "    </tr>\n",
       "  </thead>\n",
       "  <tbody>\n",
       "    <tr>\n",
       "      <th>0</th>\n",
       "      <td>Correy</td>\n",
       "      <td>Nendi</td>\n",
       "    </tr>\n",
       "    <tr>\n",
       "      <th>1</th>\n",
       "      <td>Sherry</td>\n",
       "      <td>Kentin</td>\n",
       "    </tr>\n",
       "  </tbody>\n",
       "</table>\n",
       "</div>"
      ],
      "text/plain": [
       "    first  second\n",
       "0  Correy   Nendi\n",
       "1  Sherry  Kentin"
      ]
     },
     "execution_count": 27,
     "metadata": {},
     "output_type": "execute_result"
    }
   ],
   "source": [
    "#We can also select multiple rows and columns using loc\n",
    "#Both the rows and columns will be in inner lists\n",
    "dictionaries_df.loc[[0,1],[\"first\",\"second\"]]"
   ]
  },
  {
   "cell_type": "code",
   "execution_count": null,
   "id": "61bbf76d-d7f3-49f5-a12b-ed9cc35e2fea",
   "metadata": {},
   "outputs": [],
   "source": []
  }
 ],
 "metadata": {
  "kernelspec": {
   "display_name": "Python 3 (ipykernel)",
   "language": "python",
   "name": "python3"
  },
  "language_info": {
   "codemirror_mode": {
    "name": "ipython",
    "version": 3
   },
   "file_extension": ".py",
   "mimetype": "text/x-python",
   "name": "python",
   "nbconvert_exporter": "python",
   "pygments_lexer": "ipython3",
   "version": "3.11.7"
  }
 },
 "nbformat": 4,
 "nbformat_minor": 5
}
